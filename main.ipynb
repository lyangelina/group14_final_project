{
 "cells": [
  {
   "metadata": {},
   "cell_type": "markdown",
   "source": [
    "**MAD2502: Final Project**\n",
    "**Group: 14**"
   ],
   "id": "7c76593be40347cc"
  },
  {
   "metadata": {
    "ExecuteTime": {
     "end_time": "2025-04-15T16:58:14.189947Z",
     "start_time": "2025-04-15T16:58:14.178692Z"
    }
   },
   "cell_type": "code",
   "source": "print(\"test\")",
   "id": "10d45e619476b8f1",
   "outputs": [
    {
     "name": "stdout",
     "output_type": "stream",
     "text": [
      "test\n"
     ]
    }
   ],
   "execution_count": 4
  }
 ],
 "metadata": {
  "kernelspec": {
   "display_name": "Python 3",
   "language": "python",
   "name": "python3"
  },
  "language_info": {
   "codemirror_mode": {
    "name": "ipython",
    "version": 2
   },
   "file_extension": ".py",
   "mimetype": "text/x-python",
   "name": "python",
   "nbconvert_exporter": "python",
   "pygments_lexer": "ipython2",
   "version": "2.7.6"
  }
 },
 "nbformat": 4,
 "nbformat_minor": 5
}
