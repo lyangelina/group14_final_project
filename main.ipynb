{
 "cells": [
  {
   "metadata": {},
   "cell_type": "markdown",
   "source": [
    "**MAD2502: Final Project**\n",
    "**Group: 14**"
   ],
   "id": "7c76593be40347cc"
  },
  {
   "metadata": {
    "ExecuteTime": {
     "end_time": "2025-04-15T17:07:57.691193Z",
     "start_time": "2025-04-15T17:07:57.671065Z"
    }
   },
   "cell_type": "code",
   "source": [
    "import math\n",
    "\n",
    "\"\"\"\n",
    "Goal: Generate study schedule according to user preferences\n",
    "\n",
    "Schedule generator inputs:\n",
    "- Current date\n",
    "- Exam date\n",
    "- User wake-up and sleep time\n",
    "- Desired number/length of study breaks\n",
    "- Max. amount of study hours per day\n",
    "\n",
    "Generated schedule output:\n",
    "- Day-by-day schedule w/ study start/end times\n",
    "- Allotted breaks\n",
    "\"\"\"\n",
    "\n",
    "print(\"test\")"
   ],
   "id": "10d45e619476b8f1",
   "outputs": [
    {
     "name": "stdout",
     "output_type": "stream",
     "text": [
      "test\n"
     ]
    }
   ],
   "execution_count": 5
  }
 ],
 "metadata": {
  "kernelspec": {
   "display_name": "Python 3",
   "language": "python",
   "name": "python3"
  },
  "language_info": {
   "codemirror_mode": {
    "name": "ipython",
    "version": 2
   },
   "file_extension": ".py",
   "mimetype": "text/x-python",
   "name": "python",
   "nbconvert_exporter": "python",
   "pygments_lexer": "ipython2",
   "version": "2.7.6"
  }
 },
 "nbformat": 4,
 "nbformat_minor": 5
}
